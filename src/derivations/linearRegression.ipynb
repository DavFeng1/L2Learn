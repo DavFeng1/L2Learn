{
 "cells": [
  {
   "cell_type": "markdown",
   "metadata": {},
   "source": [
    "Fit the data $X$ and $Y$ using $ y = mx + b$ linear model.\n",
    "\n",
    "The error function is given as the Euclidean distance \n",
    "$$\n",
    "  E = \\frac{1}{N} \\sum_i (\\hat{y}_i - y_i)^2 = \\frac{1}{N} \\sum_i (\\hat{y}_i - (mx_i + b))^2\n",
    "$$\n",
    "Gradient of the error function\n",
    "$$\n",
    "\\begin{aligned}\n",
    "  \\frac{\\partial E}{\\partial m} &= - \\frac{2}{N} \\sum_i x_i (\\hat{y}_i - mx_i - b)\n",
    "  \\\\\n",
    "  \\frac{\\partial E}{\\partial b} &= - \\frac{2}{N} \\sum_i (\\hat{y}_i - mx_i - b) \n",
    "\\end{aligned}\n",
    "$$\n",
    "\n",
    "Gradient descent\n",
    "$$ \n",
    "\\begin{aligned}\n",
    "  b & \\rightarrow b + \\Delta b\n",
    "  \\\\\n",
    "  m & \\rightarrow m + \\Delta m\n",
    "\\end{aligned}\n",
    "$$"
   ]
  }
 ],
 "metadata": {
  "language_info": {
   "name": "python"
  },
  "orig_nbformat": 4
 },
 "nbformat": 4,
 "nbformat_minor": 2
}
